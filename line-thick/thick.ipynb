{
 "cells": [
  {
   "cell_type": "code",
   "execution_count": null,
   "id": "c0d0a4b2",
   "metadata": {
    "vscode": {
     "languageId": "plaintext"
    }
   },
   "outputs": [],
   "source": [
    "import cv2\n",
    "import numpy as np\n",
    "import os\n",
    "from matplotlib import pyplot as plt\n",
    "\n",
    "# 이미지 불러오기\n",
    "image = cv2.imread('images/sanrio2.jpg', cv2.IMREAD_GRAYSCALE)\n",
    "\n",
    "# 이진화 -> 선 강조를 위해 반전\n",
    "_, binary = cv2.threshold(image, 127, 255, cv2.THRESH_BINARY_INV)\n",
    "\n",
    "# 팽창 연산 -> 선을 굵게 만들기\n",
    "kernel = cv2.getStructuringElement(cv2.MORPH_RECT, (7, 7))\n",
    "dilated = cv2.dilate(binary, kernel, iterations=1)\n",
    "\n",
    "# 다시 색 반전 -> 뒤집힌 색을 원래대로\n",
    "final_result = cv2.bitwise_not(dilated)\n",
    "\n",
    "# 최종 결과물 저장\n",
    "os.makedirs('transfer-images', exist_ok=True)\n",
    "cv2.imwrite('transfer-images/sanrio2.jpg', final_result)\n",
    "\n",
    "# 출력\n",
    "plt.imshow(final_result, cmap='gray')\n",
    "plt.title(\"굵어진 선 이미지 (최종 색 반전됨)\")\n",
    "plt.axis(\"off\")\n",
    "plt.show()\n"
   ]
  }
 ],
 "metadata": {
  "language_info": {
   "name": "python"
  }
 },
 "nbformat": 4,
 "nbformat_minor": 5
}
